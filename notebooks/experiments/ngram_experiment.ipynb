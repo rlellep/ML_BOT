{
  "nbformat": 4,
  "nbformat_minor": 0,
  "metadata": {
    "colab": {
      "provenance": []
    },
    "kernelspec": {
      "name": "python3",
      "display_name": "Python 3"
    },
    "language_info": {
      "name": "python"
    }
  },
  "cells": [
    {
      "cell_type": "code",
      "execution_count": null,
      "metadata": {
        "colab": {
          "base_uri": "https://localhost:8080/"
        },
        "id": "evgSlOW5r3nO",
        "outputId": "77390259-9e74-4834-9565-c9761d3b5d6e"
      },
      "outputs": [
        {
          "output_type": "stream",
          "name": "stdout",
          "text": [
            "Mounted at /gdrive\n"
          ]
        }
      ],
      "source": [
        "from google.colab import drive\n",
        "drive.mount('/gdrive')"
      ]
    },
    {
      "cell_type": "code",
      "source": [
        "import numpy as np\n",
        "import pandas as pd\n",
        "from sklearn.model_selection import train_test_split\n",
        "from sklearn.metrics import mean_squared_error, mean_absolute_error\n",
        "from sklearn.naive_bayes import GaussianNB"
      ],
      "metadata": {
        "id": "KmNofWhXr_aJ"
      },
      "execution_count": null,
      "outputs": []
    },
    {
      "cell_type": "code",
      "source": [
        "data = pd.read_csv('/gdrive/MyDrive/Colab Notebooks/ML Project/AVAX-USDT_30m_22-09-2020_09-12-2022.csv')\n",
        "data.describe"
      ],
      "metadata": {
        "colab": {
          "base_uri": "https://localhost:8080/"
        },
        "id": "yoLWU8MnsBx2",
        "outputId": "3373a1d6-a25f-48aa-bbb5-e75ebcb55b70"
      },
      "execution_count": null,
      "outputs": [
        {
          "output_type": "execute_result",
          "data": {
            "text/plain": [
              "<bound method NDFrame.describe of                datetime_id     open     high      low    close      volume\n",
              "0      2020-09-22 09:30:00   0.8500   6.0000   0.8500   4.8811  3198372.67\n",
              "1      2020-09-22 10:00:00   4.8800   5.3500   4.2450   4.9312  1914636.29\n",
              "2      2020-09-22 10:30:00   4.9141   5.1999   4.5662   4.9096  1256377.31\n",
              "3      2020-09-22 11:00:00   4.9096   5.4499   4.8200   5.3951  1100528.85\n",
              "4      2020-09-22 11:30:00   5.3917   6.9289   5.3373   6.8219  2783452.58\n",
              "...                    ...      ...      ...      ...      ...         ...\n",
              "38755  2022-12-09 15:30:00  13.5900  13.5900  13.4000  13.4700    80416.54\n",
              "38756  2022-12-09 16:00:00  13.4600  13.4800  13.3600  13.4100    21615.24\n",
              "38757  2022-12-09 16:30:00  13.4200  13.5100  13.3800  13.4900    19410.28\n",
              "38758  2022-12-09 17:00:00  13.5000  13.5400  13.4500  13.5000    31878.00\n",
              "38759  2022-12-09 17:30:00  13.5000  13.5300  13.5000  13.5100     4308.78\n",
              "\n",
              "[38760 rows x 6 columns]>"
            ]
          },
          "metadata": {},
          "execution_count": 4
        }
      ]
    },
    {
      "cell_type": "code",
      "source": [
        "def risefall(data: pd.DataFrame) -> pd.DataFrame:\n",
        "    df = data.copy()\n",
        "\n",
        "    for col in ['open', 'high', 'low', 'close', 'volume']:\n",
        "        df[col] = 1.0 * (df[col] > df[col].shift(-1))\n",
        "\n",
        "    return df\n",
        "    \n",
        "# columns: datetime_id, open, high, low, close, volume\n",
        "\n",
        "def window_input(window_length: int, data: pd.DataFrame) -> pd.DataFrame:\n",
        "    \n",
        "    df = data.copy()\n",
        "    \n",
        "    i = 1\n",
        "    while i < window_length:\n",
        "        for col in ['open', 'high', 'low', 'close', 'volume']:\n",
        "            df[f'{col}_{i}'] = df[col].shift(-i)\n",
        "        i = i + 1\n",
        "        \n",
        "    if i == window_length:\n",
        "        df['y'] = df['close'].shift(-i)\n",
        "        #df['y'] = df['y'] > df[f'close_{i-1}']\n",
        "        df['datetime_id'] = df['datetime_id'].shift(-i)\n",
        "    \n",
        "    # Drop rows where there is a NaN\n",
        "    df = df.dropna(axis=0)\n",
        "        \n",
        "    return df"
      ],
      "metadata": {
        "id": "ZsTCEDXQs1I8"
      },
      "execution_count": null,
      "outputs": []
    },
    {
      "cell_type": "code",
      "source": [
        "window_size = 36\n",
        "risefall_df = risefall(data)\n",
        "seq_df = window_input(window_size, risefall_df)"
      ],
      "metadata": {
        "colab": {
          "base_uri": "https://localhost:8080/"
        },
        "id": "hm6Sd2Jls8ro",
        "outputId": "839552c8-8390-468b-a111-5ef1e3174011"
      },
      "execution_count": null,
      "outputs": [
        {
          "output_type": "stream",
          "name": "stderr",
          "text": [
            "<ipython-input-5-a002ba823d85>:18: PerformanceWarning: DataFrame is highly fragmented.  This is usually the result of calling `frame.insert` many times, which has poor performance.  Consider joining all columns at once using pd.concat(axis=1) instead.  To get a de-fragmented frame, use `newframe = frame.copy()`\n",
            "  df[f'{col}_{i}'] = df[col].shift(-i)\n",
            "<ipython-input-5-a002ba823d85>:22: PerformanceWarning: DataFrame is highly fragmented.  This is usually the result of calling `frame.insert` many times, which has poor performance.  Consider joining all columns at once using pd.concat(axis=1) instead.  To get a de-fragmented frame, use `newframe = frame.copy()`\n",
            "  df['y'] = df['close'].shift(-i)\n"
          ]
        }
      ]
    },
    {
      "cell_type": "code",
      "source": [
        "X = seq_df[[f'close_{i+1}' for i in range(window_size - 1)]]\n",
        "y = seq_df['y']\n",
        "\n",
        "X_train, X_test, y_train, y_test = train_test_split(X, y, test_size=0.2, random_state=43)"
      ],
      "metadata": {
        "id": "jyJiXijStB7j"
      },
      "execution_count": null,
      "outputs": []
    },
    {
      "cell_type": "code",
      "source": [
        "from collections import defaultdict\n",
        "\n",
        "class NGramModel:\n",
        "    def __init__(self, depth):\n",
        "        self.ngrams = [defaultdict(lambda: 0) for i in range(depth)]\n",
        "        self.depth = depth\n",
        "\n",
        "    def _asints(ng):\n",
        "        grams = [0 for _ in ng]\n",
        "        grams[0] = ng[0]\n",
        "        for i in range(1, len(ng)):\n",
        "            grams[i] = 2 * grams[i - 1] + ng[i]\n",
        "\n",
        "        return grams\n",
        "            \n",
        "    def encode(self, ng, y):\n",
        "        ints = NGramModel._asints(ng)\n",
        "\n",
        "        # Increment\n",
        "        for i, n in enumerate(ints):\n",
        "            if y == 1:\n",
        "                self.ngrams[i][n] += 1\n",
        "\n",
        "            else:\n",
        "                self.ngrams[i][n] -= 1\n",
        "\n",
        "    def train(self, X, y):\n",
        "        for i in range(X.shape[0]):\n",
        "            self.encode(X.iloc[i].to_numpy(), y.iloc[i])\n",
        "\n",
        "    def get(self, ng):\n",
        "        ints = NGramModel._asints(ng)\n",
        "\n",
        "        result = []\n",
        "\n",
        "        for i, n in enumerate(ints):\n",
        "            result.append(1 * (self.ngrams[i][n] > 0))\n",
        "\n",
        "        prediction = 0\n",
        "        for i in range(len(result)):\n",
        "            prediction += result[i]\n",
        "\n",
        "        prediction /= len(result)\n",
        "\n",
        "        if prediction > 0.5:\n",
        "            return 1.0\n",
        "\n",
        "        else:\n",
        "            return 0.0\n",
        "\n",
        "    def predict(self, X):\n",
        "        r = []\n",
        "        for i in range(X.shape[0]):\n",
        "            r.append(self.get(X.iloc[i].to_numpy()))\n",
        "\n",
        "        return np.array(r)"
      ],
      "metadata": {
        "id": "KsuXg9lLtJnM"
      },
      "execution_count": null,
      "outputs": []
    },
    {
      "cell_type": "code",
      "source": [
        "model = NGramModel(window_size)\n",
        "model.train(X_train, y_train)"
      ],
      "metadata": {
        "id": "pzUTIsqhKmgD"
      },
      "execution_count": null,
      "outputs": []
    },
    {
      "cell_type": "code",
      "source": [
        "y_pred = model.predict(X_test)\n",
        "print(f\"Accuracy {np.sum(y_pred == y_test) / len(y_test) * 100:.2f}%\")"
      ],
      "metadata": {
        "colab": {
          "base_uri": "https://localhost:8080/"
        },
        "id": "M3rsN-qnuhBx",
        "outputId": "352618c3-e9cc-4177-a5b3-b28d1ce1ea05"
      },
      "execution_count": null,
      "outputs": [
        {
          "output_type": "stream",
          "name": "stdout",
          "text": [
            "Accuracy 50.02%\n"
          ]
        }
      ]
    }
  ]
}