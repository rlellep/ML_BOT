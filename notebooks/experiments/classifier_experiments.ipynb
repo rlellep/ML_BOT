{
  "nbformat": 4,
  "nbformat_minor": 0,
  "metadata": {
    "colab": {
      "provenance": []
    },
    "kernelspec": {
      "name": "python3",
      "display_name": "Python 3"
    },
    "language_info": {
      "name": "python"
    }
  },
  "cells": [
    {
      "cell_type": "code",
      "execution_count": 2,
      "metadata": {
        "colab": {
          "base_uri": "https://localhost:8080/"
        },
        "id": "evgSlOW5r3nO",
        "outputId": "be3c48c7-a7f3-4d3c-980b-009fe037d8bb"
      },
      "outputs": [
        {
          "output_type": "stream",
          "name": "stdout",
          "text": [
            "Mounted at /gdrive\n"
          ]
        }
      ],
      "source": [
        "from google.colab import drive\n",
        "drive.mount('/gdrive')"
      ]
    },
    {
      "cell_type": "code",
      "source": [
        "import numpy as np\n",
        "import pandas as pd\n",
        "from sklearn.model_selection import train_test_split\n",
        "from sklearn.metrics import mean_squared_error, mean_absolute_error"
      ],
      "metadata": {
        "id": "KmNofWhXr_aJ"
      },
      "execution_count": 10,
      "outputs": []
    },
    {
      "cell_type": "code",
      "source": [
        "data = pd.read_csv('/gdrive/MyDrive/Colab Notebooks/ML Project/AVAX-USDT_30m_22-09-2020_09-12-2022.csv')\n",
        "data.describe"
      ],
      "metadata": {
        "colab": {
          "base_uri": "https://localhost:8080/"
        },
        "id": "yoLWU8MnsBx2",
        "outputId": "5ef027de-d2c2-4809-dbd7-9f2a799f2c42"
      },
      "execution_count": 4,
      "outputs": [
        {
          "output_type": "execute_result",
          "data": {
            "text/plain": [
              "<bound method NDFrame.describe of                datetime_id     open     high      low    close      volume\n",
              "0      2020-09-22 09:30:00   0.8500   6.0000   0.8500   4.8811  3198372.67\n",
              "1      2020-09-22 10:00:00   4.8800   5.3500   4.2450   4.9312  1914636.29\n",
              "2      2020-09-22 10:30:00   4.9141   5.1999   4.5662   4.9096  1256377.31\n",
              "3      2020-09-22 11:00:00   4.9096   5.4499   4.8200   5.3951  1100528.85\n",
              "4      2020-09-22 11:30:00   5.3917   6.9289   5.3373   6.8219  2783452.58\n",
              "...                    ...      ...      ...      ...      ...         ...\n",
              "38755  2022-12-09 15:30:00  13.5900  13.5900  13.4000  13.4700    80416.54\n",
              "38756  2022-12-09 16:00:00  13.4600  13.4800  13.3600  13.4100    21615.24\n",
              "38757  2022-12-09 16:30:00  13.4200  13.5100  13.3800  13.4900    19410.28\n",
              "38758  2022-12-09 17:00:00  13.5000  13.5400  13.4500  13.5000    31878.00\n",
              "38759  2022-12-09 17:30:00  13.5000  13.5300  13.5000  13.5100     4308.78\n",
              "\n",
              "[38760 rows x 6 columns]>"
            ]
          },
          "metadata": {},
          "execution_count": 4
        }
      ]
    },
    {
      "cell_type": "code",
      "source": [
        "def window_input(window_length: int, data: pd.DataFrame) -> pd.DataFrame:\n",
        "    \n",
        "    df = data.copy()\n",
        "    \n",
        "    i = 1\n",
        "    while i < window_length:\n",
        "        for col in ['open', 'high', 'low', 'close', 'volume']:\n",
        "            df[f'{col}_{i}'] = df[col].shift(-i)\n",
        "        i = i + 1\n",
        "        \n",
        "    if i == window_length:\n",
        "        df['y'] = df['close'].shift(-i)\n",
        "        df['y'] = df['y'] > df[f'close_{i-1}']\n",
        "        df['datetime_id'] = df['datetime_id'].shift(-i)\n",
        "    \n",
        "    # Drop rows where there is a NaN\n",
        "    df = df.dropna(axis=0)\n",
        "        \n",
        "    return df"
      ],
      "metadata": {
        "id": "ZsTCEDXQs1I8"
      },
      "execution_count": 5,
      "outputs": []
    },
    {
      "cell_type": "code",
      "source": [
        "window_size = 50\n",
        "seq_df = window_input(window_size, data)"
      ],
      "metadata": {
        "colab": {
          "base_uri": "https://localhost:8080/"
        },
        "id": "hm6Sd2Jls8ro",
        "outputId": "8bd07982-e51b-4171-a0a3-bdf72597d3d4"
      },
      "execution_count": 7,
      "outputs": [
        {
          "output_type": "stream",
          "name": "stderr",
          "text": [
            "<ipython-input-5-1e7872469685>:8: PerformanceWarning: DataFrame is highly fragmented.  This is usually the result of calling `frame.insert` many times, which has poor performance.  Consider joining all columns at once using pd.concat(axis=1) instead.  To get a de-fragmented frame, use `newframe = frame.copy()`\n",
            "  df[f'{col}_{i}'] = df[col].shift(-i)\n",
            "<ipython-input-5-1e7872469685>:12: PerformanceWarning: DataFrame is highly fragmented.  This is usually the result of calling `frame.insert` many times, which has poor performance.  Consider joining all columns at once using pd.concat(axis=1) instead.  To get a de-fragmented frame, use `newframe = frame.copy()`\n",
            "  df['y'] = df['close'].shift(-i)\n"
          ]
        }
      ]
    },
    {
      "cell_type": "code",
      "source": [
        "X = seq_df.drop(['datetime_id', 'y'], axis=1)\n",
        "y = seq_df['y']\n",
        "\n",
        "X_train, X_test, y_train, y_test = train_test_split(X, y, test_size=0.2, random_state=43)"
      ],
      "metadata": {
        "id": "jyJiXijStB7j"
      },
      "execution_count": 9,
      "outputs": []
    },
    {
      "cell_type": "code",
      "source": [],
      "metadata": {
        "id": "KsuXg9lLtJnM"
      },
      "execution_count": null,
      "outputs": []
    },
    {
      "cell_type": "code",
      "source": [
        "from sklearn.naive_bayes import GaussianNB\n",
        "model1 = GaussianNB()\n",
        "model1.fit(X_train, y_train)\n",
        "y_pred = model1.predict(X_test)\n",
        "print(f\"Accuracy {np.sum(y_pred == y_test) / len(y_test) * 100:.2f}%\")"
      ],
      "metadata": {
        "id": "pzUTIsqhKmgD",
        "colab": {
          "base_uri": "https://localhost:8080/"
        },
        "outputId": "439e2fe8-c213-42b2-c2e2-de07f14090eb"
      },
      "execution_count": 13,
      "outputs": [
        {
          "output_type": "stream",
          "name": "stdout",
          "text": [
            "Accuracy 50.68%\n"
          ]
        }
      ]
    },
    {
      "cell_type": "code",
      "source": [
        "from sklearn.ensemble import AdaBoostClassifier\n",
        "model2 = AdaBoostClassifier(n_estimators=20, random_state=0)\n",
        "model2.fit(X_train, y_train)\n",
        "y_pred = model2.predict(X_test)\n",
        "print(f\"Accuracy {np.sum(y_pred == y_test) / len(y_test) * 100:.2f}%\")"
      ],
      "metadata": {
        "colab": {
          "base_uri": "https://localhost:8080/"
        },
        "id": "wW1Chi93Xnpk",
        "outputId": "3494e73c-eeb6-41e0-a886-904f8ddb2b5a"
      },
      "execution_count": 15,
      "outputs": [
        {
          "output_type": "stream",
          "name": "stdout",
          "text": [
            "Accuracy 50.53%\n"
          ]
        }
      ]
    },
    {
      "cell_type": "code",
      "source": [
        "from sklearn.neural_network import MLPClassifier\n",
        "model3 = MLPClassifier(hidden_layer_sizes=100, random_state=0)\n",
        "model3.fit(X_train, y_train)\n",
        "y_pred = model3.predict(X_test)\n",
        "print(f\"Accuracy {np.sum(y_pred == y_test) / len(y_test) * 100:.2f}%\")"
      ],
      "metadata": {
        "colab": {
          "base_uri": "https://localhost:8080/"
        },
        "id": "jA8kY8M3YSs_",
        "outputId": "7d005831-13a1-4c82-aca3-8374e72f9b28"
      },
      "execution_count": 17,
      "outputs": [
        {
          "output_type": "stream",
          "name": "stdout",
          "text": [
            "Accuracy 49.41%\n"
          ]
        }
      ]
    },
    {
      "cell_type": "code",
      "source": [
        "from sklearn.discriminant_analysis import QuadraticDiscriminantAnalysis\n",
        "model4 = QuadraticDiscriminantAnalysis()\n",
        "model4.fit(X_train, y_train)\n",
        "y_pred = model4.predict(X_test)\n",
        "print(f\"Accuracy {np.sum(y_pred == y_test) / len(y_test) * 100:.2f}%\")"
      ],
      "metadata": {
        "colab": {
          "base_uri": "https://localhost:8080/"
        },
        "id": "tjuPUgWhYrOB",
        "outputId": "a0ecb2b4-367e-46ac-c268-06f1e242e60f"
      },
      "execution_count": 19,
      "outputs": [
        {
          "output_type": "stream",
          "name": "stdout",
          "text": [
            "Accuracy 50.94%\n"
          ]
        }
      ]
    },
    {
      "cell_type": "code",
      "source": [
        "from sklearn.tree import DecisionTreeClassifier\n",
        "model5 = DecisionTreeClassifier(max_depth=20)\n",
        "model5.fit(X_train, y_train)\n",
        "y_pred = model5.predict(X_test)\n",
        "print(f\"Accuracy {np.sum(y_pred == y_test) / len(y_test) * 100:.2f}%\")"
      ],
      "metadata": {
        "colab": {
          "base_uri": "https://localhost:8080/"
        },
        "id": "l_MhD59oZKYH",
        "outputId": "9e699bbe-f415-4f51-9955-dda8e3c16fdd"
      },
      "execution_count": 23,
      "outputs": [
        {
          "output_type": "stream",
          "name": "stdout",
          "text": [
            "Accuracy 50.01%\n"
          ]
        }
      ]
    }
  ]
}